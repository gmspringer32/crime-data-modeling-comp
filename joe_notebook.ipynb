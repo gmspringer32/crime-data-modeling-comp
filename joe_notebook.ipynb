{
 "cells": [
  {
   "cell_type": "code",
   "execution_count": 2,
   "metadata": {},
   "outputs": [],
   "source": [
    "import pandas as pd\n",
    "import numpy as np\n",
    "import matplotlib.pyplot as plt\n",
    "import seaborn as sns\n",
    "import os\n",
    "from sklearn.pipeline import Pipeline\n",
    "from sklearn.model_selection import train_test_split, GridSearchCV, RandomizedSearchCV, cross_val_score\n",
    "from sklearn.preprocessing import StandardScaler, OneHotEncoder, PolynomialFeatures\n",
    "from sklearn.metrics import accuracy_score, mean_squared_error\n",
    "from sklearn.impute import SimpleImputer\n",
    "from sklearn.neighbors import KNeighborsRegressor\n",
    "from sklearn.feature_selection import SelectPercentile, f_regression\n",
    "from sklearn.compose import ColumnTransformer\n",
    "from sklearn.linear_model import Ridge, Lasso, RidgeCV, LassoCV, LinearRegression"
   ]
  },
  {
   "cell_type": "code",
   "execution_count": 23,
   "metadata": {},
   "outputs": [],
   "source": [
    "crime1 = pd.read_csv('data/crime1.csv')\n",
    "crime2 = pd.read_csv('data/crime2.csv')\n",
    "moon = pd.read_csv('data/full_moon.csv')\n",
    "holiday = pd.read_csv('data/holidays.csv')\n",
    "weather = pd.read_csv('data/weather.csv')\n",
    "IUCR = pd.read_excel('IUCR Codes.xlsx', header=None)"
   ]
  },
  {
   "cell_type": "code",
   "execution_count": 25,
   "metadata": {},
   "outputs": [],
   "source": [
    "# Update IUCR codes such that they are all 4 digits\n",
    "IUCR[0] = IUCR[0].astype(str)\n",
    "IUCR[0] = IUCR[0].str.zfill(4)"
   ]
  },
  {
   "cell_type": "code",
   "execution_count": 26,
   "metadata": {},
   "outputs": [],
   "source": [
    "# filter the crime data to only include the IUCR codes that are in the IUCR codes file\n",
    "crime1 = crime1[crime1['IUCR'].isin(IUCR[0])]\n",
    "crime2 = crime2[crime2['IUCR'].isin(IUCR[0])]"
   ]
  },
  {
   "cell_type": "code",
   "execution_count": 35,
   "metadata": {},
   "outputs": [
    {
     "name": "stderr",
     "output_type": "stream",
     "text": [
      "C:\\Users\\hermi\\AppData\\Local\\Temp\\ipykernel_5472\\2456530382.py:3: SettingWithCopyWarning: \n",
      "A value is trying to be set on a copy of a slice from a DataFrame.\n",
      "Try using .loc[row_indexer,col_indexer] = value instead\n",
      "\n",
      "See the caveats in the documentation: https://pandas.pydata.org/pandas-docs/stable/user_guide/indexing.html#returning-a-view-versus-a-copy\n",
      "  crime2['Date'] = pd.to_datetime(crime2['Date'])\n"
     ]
    }
   ],
   "source": [
    "# Make sure all the dates are in the same format\n",
    "crime1['Date'] = pd.to_datetime(crime1['Date'])\n",
    "crime2['Date'] = pd.to_datetime(crime2['Date'])\n",
    "moon['FullMoonDates'] = pd.to_datetime(moon['FullMoonDates'])\n",
    "holiday['Date'] = pd.to_datetime(holiday['Date'])\n",
    "weather['datetime'] = pd.to_datetime(weather['datetime'])"
   ]
  },
  {
   "cell_type": "code",
   "execution_count": null,
   "metadata": {},
   "outputs": [],
   "source": []
  }
 ],
 "metadata": {
  "kernelspec": {
   "display_name": "stat386",
   "language": "python",
   "name": "python3"
  },
  "language_info": {
   "codemirror_mode": {
    "name": "ipython",
    "version": 3
   },
   "file_extension": ".py",
   "mimetype": "text/x-python",
   "name": "python",
   "nbconvert_exporter": "python",
   "pygments_lexer": "ipython3",
   "version": "3.10.12"
  }
 },
 "nbformat": 4,
 "nbformat_minor": 2
}
